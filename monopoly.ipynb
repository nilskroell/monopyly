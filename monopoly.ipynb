{
 "cells": [
  {
   "cell_type": "code",
   "execution_count": 1,
   "source": [
    "import numpy as np\r\n",
    "import matplotlib.pyplot as plt\r\n",
    "\r\n",
    "\r\n",
    "import player\r\n",
    "import playfield\r\n",
    "from playingboard import throw_two_dices"
   ],
   "outputs": [],
   "metadata": {}
  },
  {
   "cell_type": "code",
   "execution_count": 2,
   "source": [
    "# initialize players\r\n",
    "n_players = 5\r\n",
    "players = [player.Player(i) for i in range(n_players)]"
   ],
   "outputs": [],
   "metadata": {}
  },
  {
   "cell_type": "code",
   "execution_count": 3,
   "source": [
    "# initialize playfield\r\n",
    "fields = []\r\n",
    "fields.append(playfield.StreetField(\"lightblue\", 100, 50))\r\n",
    "fields.append(playfield.StreetField(\"lightblue\", 100, 50))\r\n",
    "fields.append(playfield.StreetField(\"lightblue\", 120, 50))\r\n",
    "fields.append(playfield.StreetField(\"pink\", 160, 100))\r\n",
    "fields.append(playfield.StreetField(\"pink\", 160, 100))\r\n",
    "fields.append(playfield.StreetField(\"pink\", 180, 100))"
   ],
   "outputs": [],
   "metadata": {}
  },
  {
   "cell_type": "code",
   "execution_count": 4,
   "source": [
    "# first basic simulation\r\n",
    "\r\n",
    "current_player = players[0]\r\n",
    "dices = throw_two_dices()"
   ],
   "outputs": [
    {
     "output_type": "execute_result",
     "data": {
      "text/plain": [
       "array([1, 2, 3, 4, 5, 6])"
      ]
     },
     "metadata": {},
     "execution_count": 4
    }
   ],
   "metadata": {}
  },
  {
   "cell_type": "code",
   "execution_count": null,
   "source": [],
   "outputs": [],
   "metadata": {}
  }
 ],
 "metadata": {
  "orig_nbformat": 4,
  "language_info": {
   "name": "python",
   "version": "3.8.10",
   "mimetype": "text/x-python",
   "codemirror_mode": {
    "name": "ipython",
    "version": 3
   },
   "pygments_lexer": "ipython3",
   "nbconvert_exporter": "python",
   "file_extension": ".py"
  },
  "kernelspec": {
   "name": "python3",
   "display_name": "Python 3.8.10 64-bit ('base': conda)"
  },
  "interpreter": {
   "hash": "97ae724bfa85b9b34df7982b8bb8c7216f435b92902d749e4263f71162bea840"
  }
 },
 "nbformat": 4,
 "nbformat_minor": 2
}